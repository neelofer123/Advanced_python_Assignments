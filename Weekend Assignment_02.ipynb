{
 "cells": [
  {
   "cell_type": "code",
   "execution_count": 1,
   "metadata": {},
   "outputs": [],
   "source": [
    "#Weekend Assignment 2:\n",
    "\n",
    "def make_shirt(size , text):\n",
    "    \"\"\"Function to make shirts using Position argument\"\"\"\n",
    "    print(f\"The shirts are of {size} size and {text} is printed on it\")"
   ]
  },
  {
   "cell_type": "code",
   "execution_count": 2,
   "metadata": {},
   "outputs": [
    {
     "name": "stdout",
     "output_type": "stream",
     "text": [
      "The shirts are of large size and Advanced python batch 9 is printed on it\n"
     ]
    }
   ],
   "source": [
    "make_shirt('large' , 'Advanced python batch 9')"
   ]
  },
  {
   "cell_type": "code",
   "execution_count": 3,
   "metadata": {},
   "outputs": [],
   "source": [
    "def make_shirt(size = 'Small'  , text = 'Advance Python'):\n",
    "    \"\"\"Function to make shirts using keyword argument\"\"\"\n",
    "    print(f\"The shirts are of {size} size and {text} is printed on it\")"
   ]
  },
  {
   "cell_type": "code",
   "execution_count": 4,
   "metadata": {},
   "outputs": [
    {
     "name": "stdout",
     "output_type": "stream",
     "text": [
      "The shirts are of Small size and Advance Python is printed on it\n"
     ]
    }
   ],
   "source": [
    "make_shirt()"
   ]
  },
  {
   "cell_type": "code",
   "execution_count": 7,
   "metadata": {},
   "outputs": [],
   "source": [
    "def make_shirt(text , size = 'Large'):\n",
    "    \"\"\"Function to make shirts using Default argument for shirt size\"\"\"\n",
    "    print(f\"The shirts are of {size} size and {text} is printed on it\")"
   ]
  },
  {
   "cell_type": "code",
   "execution_count": 6,
   "metadata": {},
   "outputs": [
    {
     "name": "stdout",
     "output_type": "stream",
     "text": [
      "The shirts are of Large size and I Love Python is printed on it\n"
     ]
    }
   ],
   "source": [
    "make_shirt('I Love Python')"
   ]
  },
  {
   "cell_type": "code",
   "execution_count": 8,
   "metadata": {},
   "outputs": [],
   "source": [
    "def make_shirt(size , text = 'I Love Python'):\n",
    "    \"\"\"Function to make shirts using Default argument for Message\"\"\"\n",
    "    print(f\"The shirts are of {size} size and {text} is printed on it\")"
   ]
  },
  {
   "cell_type": "code",
   "execution_count": 9,
   "metadata": {},
   "outputs": [
    {
     "name": "stdout",
     "output_type": "stream",
     "text": [
      "The shirts are of Large and Medium size and I Love Python is printed on it\n"
     ]
    }
   ],
   "source": [
    "make_shirt('Large and Medium')"
   ]
  },
  {
   "cell_type": "code",
   "execution_count": 10,
   "metadata": {},
   "outputs": [],
   "source": [
    "def describe_city(*city_name , country_name = 'India'):\n",
    "    \"\"\"Function to describe a city using Default argument for Country\"\"\"\n",
    "    print(f\"{city_name} is in {country_name}\")"
   ]
  },
  {
   "cell_type": "code",
   "execution_count": 11,
   "metadata": {},
   "outputs": [
    {
     "name": "stdout",
     "output_type": "stream",
     "text": [
      "('Hyderabad', 'Bhubaneshwar', 'Hala') is in India\n"
     ]
    }
   ],
   "source": [
    "describe_city('Hyderabad' , 'Bhubaneshwar' , 'Hala')"
   ]
  },
  {
   "cell_type": "code",
   "execution_count": 13,
   "metadata": {},
   "outputs": [
    {
     "name": "stdout",
     "output_type": "stream",
     "text": [
      "('Hyderabad',) is in India\n"
     ]
    }
   ],
   "source": [
    "describe_city('Hyderabad')"
   ]
  },
  {
   "cell_type": "code",
   "execution_count": 14,
   "metadata": {},
   "outputs": [],
   "source": [
    "def describe_city(city_name , country_name = 'India'):\n",
    "    \"\"\"Function to describe a city using Default argument for Country\"\"\"\n",
    "    print(f\"{city_name} is in {country_name}\")"
   ]
  },
  {
   "cell_type": "code",
   "execution_count": 15,
   "metadata": {},
   "outputs": [
    {
     "name": "stdout",
     "output_type": "stream",
     "text": [
      "Hyderabad is in India\n"
     ]
    }
   ],
   "source": [
    "describe_city('Hyderabad')"
   ]
  },
  {
   "cell_type": "code",
   "execution_count": null,
   "metadata": {},
   "outputs": [],
   "source": []
  }
 ],
 "metadata": {
  "kernelspec": {
   "display_name": "Python 3",
   "language": "python",
   "name": "python3"
  },
  "language_info": {
   "codemirror_mode": {
    "name": "ipython",
    "version": 3
   },
   "file_extension": ".py",
   "mimetype": "text/x-python",
   "name": "python",
   "nbconvert_exporter": "python",
   "pygments_lexer": "ipython3",
   "version": "3.7.6"
  }
 },
 "nbformat": 4,
 "nbformat_minor": 4
}
